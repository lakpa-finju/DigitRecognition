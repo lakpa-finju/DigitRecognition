{
  "cells": [
    {
      "cell_type": "markdown",
      "metadata": {
        "id": "view-in-github",
        "colab_type": "text"
      },
      "source": [
        "<a href=\"https://colab.research.google.com/github/lakpa-finju/DigitRecognition/blob/main/DigitRecognition.ipynb\" target=\"_parent\"><img src=\"https://colab.research.google.com/assets/colab-badge.svg\" alt=\"Open In Colab\"/></a>"
      ]
    },
    {
      "cell_type": "code",
      "execution_count": 5,
      "id": "8c310e45",
      "metadata": {
        "colab": {
          "base_uri": "https://localhost:8080/"
        },
        "id": "8c310e45",
        "outputId": "8d269872-ace7-4c31-99c5-054313762ea9"
      },
      "outputs": [
        {
          "output_type": "stream",
          "name": "stdout",
          "text": [
            "Looking in indexes: https://pypi.org/simple, https://us-python.pkg.dev/colab-wheels/public/simple/\n",
            "Requirement already satisfied: numpy in /usr/local/lib/python3.7/dist-packages (1.21.6)\n",
            "Looking in indexes: https://pypi.org/simple, https://us-python.pkg.dev/colab-wheels/public/simple/\n",
            "Requirement already satisfied: matplotlib in /usr/local/lib/python3.7/dist-packages (3.2.2)\n",
            "Requirement already satisfied: cycler>=0.10 in /usr/local/lib/python3.7/dist-packages (from matplotlib) (0.11.0)\n",
            "Requirement already satisfied: pyparsing!=2.0.4,!=2.1.2,!=2.1.6,>=2.0.1 in /usr/local/lib/python3.7/dist-packages (from matplotlib) (3.0.9)\n",
            "Requirement already satisfied: kiwisolver>=1.0.1 in /usr/local/lib/python3.7/dist-packages (from matplotlib) (1.4.4)\n",
            "Requirement already satisfied: python-dateutil>=2.1 in /usr/local/lib/python3.7/dist-packages (from matplotlib) (2.8.2)\n",
            "Requirement already satisfied: numpy>=1.11 in /usr/local/lib/python3.7/dist-packages (from matplotlib) (1.21.6)\n",
            "Requirement already satisfied: typing-extensions in /usr/local/lib/python3.7/dist-packages (from kiwisolver>=1.0.1->matplotlib) (4.1.1)\n",
            "Requirement already satisfied: six>=1.5 in /usr/local/lib/python3.7/dist-packages (from python-dateutil>=2.1->matplotlib) (1.15.0)\n"
          ]
        }
      ],
      "source": [
        "!pip install numpy\n",
        "!pip install -q keras\n",
        "!pip install matplotlib\n"
      ]
    },
    {
      "cell_type": "code",
      "source": [
        "import tensorflow as tf\n",
        "import numpy as np\n",
        "from tensorflow.keras.layers import Dense\n",
        "from tensorflow.keras.models import Sequential\n",
        "from tensorflow.keras.activations import linear, relu, sigmoid\n",
        "import matplotlib.pyplot as plt "
      ],
      "metadata": {
        "id": "lC4vXfS-irTe"
      },
      "id": "lC4vXfS-irTe",
      "execution_count": 3,
      "outputs": []
    },
    {
      "cell_type": "markdown",
      "source": [
        "Load data set from MNIST"
      ],
      "metadata": {
        "id": "7NUKlUq2k9CR"
      },
      "id": "7NUKlUq2k9CR"
    },
    {
      "cell_type": "code",
      "source": [
        "digits_mnist = tf.keras.datasets.mnist\n",
        "(train_images, train_labels), (test_images, test_labels) = digits_mnist.load_data()"
      ],
      "metadata": {
        "colab": {
          "base_uri": "https://localhost:8080/"
        },
        "id": "7Igr0USxlAXv",
        "outputId": "c0d9c479-d329-4780-9eb4-fe7465c1304f"
      },
      "id": "7Igr0USxlAXv",
      "execution_count": 4,
      "outputs": [
        {
          "output_type": "stream",
          "name": "stdout",
          "text": [
            "Downloading data from https://storage.googleapis.com/tensorflow/tf-keras-datasets/mnist.npz\n",
            "11493376/11490434 [==============================] - 0s 0us/step\n",
            "11501568/11490434 [==============================] - 0s 0us/step\n"
          ]
        }
      ]
    },
    {
      "cell_type": "markdown",
      "source": [
        "let us look at the shape of our data and the way it is represented in the dataset"
      ],
      "metadata": {
        "id": "lkgU0A_MmTGo"
      },
      "id": "lkgU0A_MmTGo"
    },
    {
      "cell_type": "code",
      "source": [
        "print(train_images[0])\n",
        "print(\"this is label:\",train_labels[0])"
      ],
      "metadata": {
        "colab": {
          "base_uri": "https://localhost:8080/"
        },
        "id": "3HYXyAY5lxCD",
        "outputId": "24ce1fdf-336a-45c4-8394-509b57ce9ca0"
      },
      "id": "3HYXyAY5lxCD",
      "execution_count": 5,
      "outputs": [
        {
          "output_type": "stream",
          "name": "stdout",
          "text": [
            "[[  0   0   0   0   0   0   0   0   0   0   0   0   0   0   0   0   0   0\n",
            "    0   0   0   0   0   0   0   0   0   0]\n",
            " [  0   0   0   0   0   0   0   0   0   0   0   0   0   0   0   0   0   0\n",
            "    0   0   0   0   0   0   0   0   0   0]\n",
            " [  0   0   0   0   0   0   0   0   0   0   0   0   0   0   0   0   0   0\n",
            "    0   0   0   0   0   0   0   0   0   0]\n",
            " [  0   0   0   0   0   0   0   0   0   0   0   0   0   0   0   0   0   0\n",
            "    0   0   0   0   0   0   0   0   0   0]\n",
            " [  0   0   0   0   0   0   0   0   0   0   0   0   0   0   0   0   0   0\n",
            "    0   0   0   0   0   0   0   0   0   0]\n",
            " [  0   0   0   0   0   0   0   0   0   0   0   0   3  18  18  18 126 136\n",
            "  175  26 166 255 247 127   0   0   0   0]\n",
            " [  0   0   0   0   0   0   0   0  30  36  94 154 170 253 253 253 253 253\n",
            "  225 172 253 242 195  64   0   0   0   0]\n",
            " [  0   0   0   0   0   0   0  49 238 253 253 253 253 253 253 253 253 251\n",
            "   93  82  82  56  39   0   0   0   0   0]\n",
            " [  0   0   0   0   0   0   0  18 219 253 253 253 253 253 198 182 247 241\n",
            "    0   0   0   0   0   0   0   0   0   0]\n",
            " [  0   0   0   0   0   0   0   0  80 156 107 253 253 205  11   0  43 154\n",
            "    0   0   0   0   0   0   0   0   0   0]\n",
            " [  0   0   0   0   0   0   0   0   0  14   1 154 253  90   0   0   0   0\n",
            "    0   0   0   0   0   0   0   0   0   0]\n",
            " [  0   0   0   0   0   0   0   0   0   0   0 139 253 190   2   0   0   0\n",
            "    0   0   0   0   0   0   0   0   0   0]\n",
            " [  0   0   0   0   0   0   0   0   0   0   0  11 190 253  70   0   0   0\n",
            "    0   0   0   0   0   0   0   0   0   0]\n",
            " [  0   0   0   0   0   0   0   0   0   0   0   0  35 241 225 160 108   1\n",
            "    0   0   0   0   0   0   0   0   0   0]\n",
            " [  0   0   0   0   0   0   0   0   0   0   0   0   0  81 240 253 253 119\n",
            "   25   0   0   0   0   0   0   0   0   0]\n",
            " [  0   0   0   0   0   0   0   0   0   0   0   0   0   0  45 186 253 253\n",
            "  150  27   0   0   0   0   0   0   0   0]\n",
            " [  0   0   0   0   0   0   0   0   0   0   0   0   0   0   0  16  93 252\n",
            "  253 187   0   0   0   0   0   0   0   0]\n",
            " [  0   0   0   0   0   0   0   0   0   0   0   0   0   0   0   0   0 249\n",
            "  253 249  64   0   0   0   0   0   0   0]\n",
            " [  0   0   0   0   0   0   0   0   0   0   0   0   0   0  46 130 183 253\n",
            "  253 207   2   0   0   0   0   0   0   0]\n",
            " [  0   0   0   0   0   0   0   0   0   0   0   0  39 148 229 253 253 253\n",
            "  250 182   0   0   0   0   0   0   0   0]\n",
            " [  0   0   0   0   0   0   0   0   0   0  24 114 221 253 253 253 253 201\n",
            "   78   0   0   0   0   0   0   0   0   0]\n",
            " [  0   0   0   0   0   0   0   0  23  66 213 253 253 253 253 198  81   2\n",
            "    0   0   0   0   0   0   0   0   0   0]\n",
            " [  0   0   0   0   0   0  18 171 219 253 253 253 253 195  80   9   0   0\n",
            "    0   0   0   0   0   0   0   0   0   0]\n",
            " [  0   0   0   0  55 172 226 253 253 253 253 244 133  11   0   0   0   0\n",
            "    0   0   0   0   0   0   0   0   0   0]\n",
            " [  0   0   0   0 136 253 253 253 212 135 132  16   0   0   0   0   0   0\n",
            "    0   0   0   0   0   0   0   0   0   0]\n",
            " [  0   0   0   0   0   0   0   0   0   0   0   0   0   0   0   0   0   0\n",
            "    0   0   0   0   0   0   0   0   0   0]\n",
            " [  0   0   0   0   0   0   0   0   0   0   0   0   0   0   0   0   0   0\n",
            "    0   0   0   0   0   0   0   0   0   0]\n",
            " [  0   0   0   0   0   0   0   0   0   0   0   0   0   0   0   0   0   0\n",
            "    0   0   0   0   0   0   0   0   0   0]]\n",
            "this is label: 5\n"
          ]
        }
      ]
    },
    {
      "cell_type": "code",
      "source": [
        "print(train_images.shape)\n",
        "print(train_labels.shape)"
      ],
      "metadata": {
        "colab": {
          "base_uri": "https://localhost:8080/"
        },
        "id": "oK0NYD3NlcjP",
        "outputId": "f8422743-6e3e-44ad-9126-53fb2e9b7916"
      },
      "id": "oK0NYD3NlcjP",
      "execution_count": 6,
      "outputs": [
        {
          "output_type": "stream",
          "name": "stdout",
          "text": [
            "(60000, 28, 28)\n",
            "(60000,)\n"
          ]
        }
      ]
    },
    {
      "cell_type": "markdown",
      "source": [
        "lets us look at the one training image and see how it looks. "
      ],
      "metadata": {
        "id": "9Lv9hfHCJ1v_"
      },
      "id": "9Lv9hfHCJ1v_"
    },
    {
      "cell_type": "code",
      "source": [
        "plt.figure()\n",
        "plt.imshow(train_images[0])\n",
        "plt.colorbar()\n",
        "plt.grid(False)\n",
        "plt.show()\n",
        "print(\"actual value:\",train_labels[0])"
      ],
      "metadata": {
        "colab": {
          "base_uri": "https://localhost:8080/",
          "height": 283
        },
        "id": "e14vv4FNm1zT",
        "outputId": "1cb158fb-6504-496c-b941-529d00abd56b"
      },
      "id": "e14vv4FNm1zT",
      "execution_count": 7,
      "outputs": [
        {
          "output_type": "display_data",
          "data": {
            "text/plain": [
              "<Figure size 432x288 with 2 Axes>"
            ],
            "image/png": "[encoded data removed]"
          },
          "metadata": {
            "needs_background": "light"
          }
        },
        {
          "output_type": "stream",
          "name": "stdout",
          "text": [
            "actual value: 5\n"
          ]
        }
      ]
    },
    {
      "cell_type": "markdown",
      "source": [
        "Feature scaling/normalizing the feature value between 0 and 1. "
      ],
      "metadata": {
        "id": "nAt5UB7aKd-e"
      },
      "id": "nAt5UB7aKd-e"
    },
    {
      "cell_type": "code",
      "source": [
        "train_images = train_images/255.0\n",
        "test_images = test_images /255.0"
      ],
      "metadata": {
        "id": "Vm2ckCRRJ6hu"
      },
      "id": "Vm2ckCRRJ6hu",
      "execution_count": 8,
      "outputs": []
    },
    {
      "cell_type": "markdown",
      "source": [
        "converting them in the dimension of `28*28 = 784` for ease of operation"
      ],
      "metadata": {
        "id": "PXRVjs4yY7NK"
      },
      "id": "PXRVjs4yY7NK"
    },
    {
      "cell_type": "code",
      "source": [
        "train_images = train_images.reshape(60000,784)\n",
        "print(train_images.shape)"
      ],
      "metadata": {
        "colab": {
          "base_uri": "https://localhost:8080/"
        },
        "id": "hzAZE_bIXFcf",
        "outputId": "2f75ba85-76f2-4aa2-eb2d-5f875ec81130"
      },
      "id": "hzAZE_bIXFcf",
      "execution_count": 11,
      "outputs": [
        {
          "output_type": "stream",
          "name": "stdout",
          "text": [
            "(60000, 784)\n"
          ]
        }
      ]
    },
    {
      "cell_type": "markdown",
      "source": [
        "Let us look at the 15 train images after the feature scaling"
      ],
      "metadata": {
        "id": "ZnHWgd7WK33q"
      },
      "id": "ZnHWgd7WK33q"
    },
    {
      "cell_type": "code",
      "source": [
        "plt.figure(figsize=(10,10))\n",
        "for i in range(15):\n",
        "  plt.subplot(5,5,i+1)\n",
        "  plt.xticks([])\n",
        "  plt.yticks([])\n",
        "  plt.imshow(train_images[i].reshape(28,28))\n",
        "  plt.grid(False)\n",
        "  plt.xlabel(train_labels[i])\n",
        "plt.show()"
      ],
      "metadata": {
        "colab": {
          "base_uri": "https://localhost:8080/",
          "height": 364
        },
        "id": "E8FvcsiIKwuq",
        "outputId": "b3026a26-1fdd-4637-e497-5bf8f718a5f9"
      },
      "id": "E8FvcsiIKwuq",
      "execution_count": 18,
      "outputs": [
        {
          "output_type": "display_data",
          "data": {
            "text/plain": [
              "<Figure size 720x720 with 15 Axes>"
            ],
            "image/png": "[encoded data removed]"
          },
          "metadata": {}
        }
      ]
    },
    {
      "cell_type": "markdown",
      "source": [
        "Implementing the digit recognition model"
      ],
      "metadata": {
        "id": "kWCWtKAXLv_O"
      },
      "id": "kWCWtKAXLv_O"
    },
    {
      "cell_type": "code",
      "source": [
        "model = Sequential([\n",
        "    tf.keras.Input(shape=(784,)),\n",
        "    Dense(units=25, activation='relu'),\n",
        "    Dense(units=15, activation='relu'),\n",
        "    Dense(units=10, activation='linear')\n",
        "], name = 'digit_recognition')"
      ],
      "metadata": {
        "id": "T3kI2p6eK9S5"
      },
      "id": "T3kI2p6eK9S5",
      "execution_count": 19,
      "outputs": []
    },
    {
      "cell_type": "code",
      "source": [
        "model.summary()"
      ],
      "metadata": {
        "colab": {
          "base_uri": "https://localhost:8080/"
        },
        "id": "2nJtdP9yQUU_",
        "outputId": "5653b2a5-0a8b-457c-b938-10a787143f6f"
      },
      "id": "2nJtdP9yQUU_",
      "execution_count": 20,
      "outputs": [
        {
          "output_type": "stream",
          "name": "stdout",
          "text": [
            "Model: \"digit_recognition\"\n",
            "_________________________________________________________________\n",
            " Layer (type)                Output Shape              Param #   \n",
            "=================================================================\n",
            " dense (Dense)               (None, 25)                19625     \n",
            "                                                                 \n",
            " dense_1 (Dense)             (None, 15)                390       \n",
            "                                                                 \n",
            " dense_2 (Dense)             (None, 10)                160       \n",
            "                                                                 \n",
            "=================================================================\n",
            "Total params: 20,175\n",
            "Trainable params: 20,175\n",
            "Non-trainable params: 0\n",
            "_________________________________________________________________\n"
          ]
        }
      ]
    },
    {
      "cell_type": "markdown",
      "source": [
        "Defining a Loss function that would include the softmax by making `from_logits=True`. We will use `adam` optimizer which stands for adaptive moment estimation. What adam basically does is that it adjusts the learning rate as needed and this will help reduce the cost value very significantly. "
      ],
      "metadata": {
        "id": "8_HRQqP2QhDs"
      },
      "id": "8_HRQqP2QhDs"
    },
    {
      "cell_type": "code",
      "source": [
        "from tensorflow.python import metrics\n",
        "model.compile(loss=tf.keras.losses.SparseCategoricalCrossentropy(from_logits=True),\n",
        "              optimizer=tf.keras.optimizers.Adam(learning_rate=0.001), metrics=['Accuracy'])"
      ],
      "metadata": {
        "id": "HEF3vRh5QWtc"
      },
      "id": "HEF3vRh5QWtc",
      "execution_count": 21,
      "outputs": []
    },
    {
      "cell_type": "code",
      "source": [
        "history = model.fit(train_images, train_labels, epochs=40)"
      ],
      "metadata": {
        "colab": {
          "base_uri": "https://localhost:8080/"
        },
        "id": "wOxiFy5USA4-",
        "outputId": "d7c54874-26ec-4124-8b7a-26930e5a5aef"
      },
      "id": "wOxiFy5USA4-",
      "execution_count": 22,
      "outputs": [
        {
          "output_type": "stream",
          "name": "stdout",
          "text": [
            "Epoch 1/40\n",
            "1875/1875 [==============================] - 5s 2ms/step - loss: 0.4057 - Accuracy: 0.8827\n",
            "Epoch 2/40\n",
            "1875/1875 [==============================] - 4s 2ms/step - loss: 0.2037 - Accuracy: 0.9405\n",
            "Epoch 3/40\n",
            "1875/1875 [==============================] - 5s 3ms/step - loss: 0.1641 - Accuracy: 0.9522\n",
            "Epoch 4/40\n",
            "1875/1875 [==============================] - 4s 2ms/step - loss: 0.1423 - Accuracy: 0.9582\n",
            "Epoch 5/40\n",
            "1875/1875 [==============================] - 5s 2ms/step - loss: 0.1270 - Accuracy: 0.9618\n",
            "Epoch 6/40\n",
            "1875/1875 [==============================] - 4s 2ms/step - loss: 0.1149 - Accuracy: 0.9660\n",
            "Epoch 7/40\n",
            "1875/1875 [==============================] - 4s 2ms/step - loss: 0.1076 - Accuracy: 0.9674\n",
            "Epoch 8/40\n",
            "1875/1875 [==============================] - 4s 2ms/step - loss: 0.0995 - Accuracy: 0.9689\n",
            "Epoch 9/40\n",
            "1875/1875 [==============================] - 4s 2ms/step - loss: 0.0936 - Accuracy: 0.9711\n",
            "Epoch 10/40\n",
            "1875/1875 [==============================] - 4s 2ms/step - loss: 0.0876 - Accuracy: 0.9728\n",
            "Epoch 11/40\n",
            "1875/1875 [==============================] - 4s 2ms/step - loss: 0.0851 - Accuracy: 0.9740\n",
            "Epoch 12/40\n",
            "1875/1875 [==============================] - 4s 2ms/step - loss: 0.0806 - Accuracy: 0.9747\n",
            "Epoch 13/40\n",
            "1875/1875 [==============================] - 4s 2ms/step - loss: 0.0770 - Accuracy: 0.9761\n",
            "Epoch 14/40\n",
            "1875/1875 [==============================] - 4s 2ms/step - loss: 0.0733 - Accuracy: 0.9764\n",
            "Epoch 15/40\n",
            "1875/1875 [==============================] - 4s 2ms/step - loss: 0.0708 - Accuracy: 0.9774\n",
            "Epoch 16/40\n",
            "1875/1875 [==============================] - 4s 2ms/step - loss: 0.0678 - Accuracy: 0.9788\n",
            "Epoch 17/40\n",
            "1875/1875 [==============================] - 5s 2ms/step - loss: 0.0642 - Accuracy: 0.9800\n",
            "Epoch 18/40\n",
            "1875/1875 [==============================] - 4s 2ms/step - loss: 0.0621 - Accuracy: 0.9797\n",
            "Epoch 19/40\n",
            "1875/1875 [==============================] - 5s 2ms/step - loss: 0.0602 - Accuracy: 0.9808\n",
            "Epoch 20/40\n",
            "1875/1875 [==============================] - 5s 3ms/step - loss: 0.0588 - Accuracy: 0.9812\n",
            "Epoch 21/40\n",
            "1875/1875 [==============================] - 4s 2ms/step - loss: 0.0560 - Accuracy: 0.9818\n",
            "Epoch 22/40\n",
            "1875/1875 [==============================] - 4s 2ms/step - loss: 0.0541 - Accuracy: 0.9829\n",
            "Epoch 23/40\n",
            "1875/1875 [==============================] - 4s 2ms/step - loss: 0.0534 - Accuracy: 0.9832\n",
            "Epoch 24/40\n",
            "1875/1875 [==============================] - 4s 2ms/step - loss: 0.0511 - Accuracy: 0.9837\n",
            "Epoch 25/40\n",
            "1875/1875 [==============================] - 4s 2ms/step - loss: 0.0507 - Accuracy: 0.9835\n",
            "Epoch 26/40\n",
            "1875/1875 [==============================] - 4s 2ms/step - loss: 0.0488 - Accuracy: 0.9842\n",
            "Epoch 27/40\n",
            "1875/1875 [==============================] - 4s 2ms/step - loss: 0.0471 - Accuracy: 0.9844\n",
            "Epoch 28/40\n",
            "1875/1875 [==============================] - 4s 2ms/step - loss: 0.0462 - Accuracy: 0.9848\n",
            "Epoch 29/40\n",
            "1875/1875 [==============================] - 4s 2ms/step - loss: 0.0444 - Accuracy: 0.9856\n",
            "Epoch 30/40\n",
            "1875/1875 [==============================] - 4s 2ms/step - loss: 0.0433 - Accuracy: 0.9863\n",
            "Epoch 31/40\n",
            "1875/1875 [==============================] - 4s 2ms/step - loss: 0.0425 - Accuracy: 0.9860\n",
            "Epoch 32/40\n",
            "1875/1875 [==============================] - 4s 2ms/step - loss: 0.0408 - Accuracy: 0.9869\n",
            "Epoch 33/40\n",
            "1875/1875 [==============================] - 4s 2ms/step - loss: 0.0401 - Accuracy: 0.9865\n",
            "Epoch 34/40\n",
            "1875/1875 [==============================] - 4s 2ms/step - loss: 0.0389 - Accuracy: 0.9873\n",
            "Epoch 35/40\n",
            "1875/1875 [==============================] - 5s 3ms/step - loss: 0.0381 - Accuracy: 0.9875\n",
            "Epoch 36/40\n",
            "1875/1875 [==============================] - 4s 2ms/step - loss: 0.0374 - Accuracy: 0.9878\n",
            "Epoch 37/40\n",
            "1875/1875 [==============================] - 4s 2ms/step - loss: 0.0356 - Accuracy: 0.9884\n",
            "Epoch 38/40\n",
            "1875/1875 [==============================] - 4s 2ms/step - loss: 0.0347 - Accuracy: 0.9879\n",
            "Epoch 39/40\n",
            "1875/1875 [==============================] - 4s 2ms/step - loss: 0.0337 - Accuracy: 0.9887\n",
            "Epoch 40/40\n",
            "1875/1875 [==============================] - 4s 2ms/step - loss: 0.0333 - Accuracy: 0.9892\n"
          ]
        }
      ]
    },
    {
      "cell_type": "markdown",
      "source": [
        "ploting the history of of the cost function to see if the loss function values is converging. "
      ],
      "metadata": {
        "id": "vbvX3wy0ImSu"
      },
      "id": "vbvX3wy0ImSu"
    },
    {
      "cell_type": "code",
      "source": [
        "plt.plot(history.history['loss'])"
      ],
      "metadata": {
        "colab": {
          "base_uri": "https://localhost:8080/",
          "height": 283
        },
        "id": "Crnb8l3oaiBR",
        "outputId": "ccf6676b-65b2-44f6-bf3b-9120a67beb72"
      },
      "id": "Crnb8l3oaiBR",
      "execution_count": 35,
      "outputs": [
        {
          "output_type": "execute_result",
          "data": {
            "text/plain": [
              "[<matplotlib.lines.Line2D at 0x7f6890258650>]"
            ]
          },
          "metadata": {},
          "execution_count": 35
        },
        {
          "output_type": "display_data",
          "data": {
            "text/plain": [
              "<Figure size 432x288 with 1 Axes>"
            ],
            "image/png": "[encoded data removed]"
          },
          "metadata": {
            "needs_background": "light"
          }
        }
      ]
    },
    {
      "cell_type": "markdown",
      "source": [
        "Now lets predict the `test_images` using our newly trained model and see how well it performs. But first let use reshape the image into `28*28=784`."
      ],
      "metadata": {
        "id": "u-lbixMSI958"
      },
      "id": "u-lbixMSI958"
    },
    {
      "cell_type": "code",
      "source": [
        "print(test_images.shape)\n",
        "test_images = test_images.reshape(10000,784)\n",
        "print(test_images.shape)"
      ],
      "metadata": {
        "colab": {
          "base_uri": "https://localhost:8080/"
        },
        "id": "KZHJ4GyIJXp_",
        "outputId": "ac4d4ab5-99bb-47dc-86e1-990935332c49"
      },
      "id": "KZHJ4GyIJXp_",
      "execution_count": 38,
      "outputs": [
        {
          "output_type": "stream",
          "name": "stdout",
          "text": [
            "(10000, 784)\n",
            "(10000, 784)\n"
          ]
        }
      ]
    },
    {
      "cell_type": "code",
      "source": [
        "prediction = model.predict(test_images[0].reshape(1,784))\n",
        "print(f\"{prediction} is prediction\")\n",
        "print(f'{test_labels[0]} is actual value')"
      ],
      "metadata": {
        "colab": {
          "base_uri": "https://localhost:8080/"
        },
        "id": "HVwdQNEjINB6",
        "outputId": "b8412adc-5571-4e9a-c554-7b59978fe150"
      },
      "id": "HVwdQNEjINB6",
      "execution_count": 40,
      "outputs": [
        {
          "output_type": "stream",
          "name": "stdout",
          "text": [
            "[[-16.72019   -23.60274    -6.7424765  -0.8136705 -19.361183  -14.880326\n",
            "  -19.955833   11.278745   -7.0906653  -6.426964 ]] is prediction\n",
            "7 is actual value\n"
          ]
        }
      ]
    },
    {
      "cell_type": "markdown",
      "source": [
        "Since the model prediction is not the probability, we need to pass the model prediction value to the softmax to get the probability number. Out of 10, the one with the highest probability is the true prediction. "
      ],
      "metadata": {
        "id": "C6eGfMIMKN3m"
      },
      "id": "C6eGfMIMKN3m"
    },
    {
      "cell_type": "code",
      "source": [
        "prediction_probability = tf.nn.softmax(prediction)\n",
        "print(f'{prediction_probability}is the correct prediction.')\n",
        "print(f'{test_labels[0]} is the correct label')"
      ],
      "metadata": {
        "colab": {
          "base_uri": "https://localhost:8080/"
        },
        "id": "f7t0dhzqKA7t",
        "outputId": "63fa3f5d-7c48-4462-b8b1-b0e304e2b412"
      },
      "id": "f7t0dhzqKA7t",
      "execution_count": 42,
      "outputs": [
        {
          "output_type": "stream",
          "name": "stdout",
          "text": [
            "[[6.92172339e-13 7.09841032e-16 1.49101052e-08 5.60181206e-06\n",
            "  4.93453646e-14 4.35770040e-12 2.72265781e-14 9.99994397e-01\n",
            "  1.05260245e-08 2.04412061e-08]]is the correct prediction.\n",
            "7 is the correct label\n"
          ]
        }
      ]
    },
    {
      "cell_type": "code",
      "source": [
        "print(np.argmax(prediction_probability))"
      ],
      "metadata": {
        "colab": {
          "base_uri": "https://localhost:8080/"
        },
        "id": "JJ9zhRBZKuiD",
        "outputId": "24afd5d8-53df-42a4-e466-193cab6d442f"
      },
      "id": "JJ9zhRBZKuiD",
      "execution_count": 44,
      "outputs": [
        {
          "output_type": "stream",
          "name": "stdout",
          "text": [
            "7\n"
          ]
        }
      ]
    },
    {
      "cell_type": "code",
      "source": [
        "model_evaluation = model.evaluate(test_images,test_labels, verbose=2)\n"
      ],
      "metadata": {
        "colab": {
          "base_uri": "https://localhost:8080/"
        },
        "id": "3U_6bJ1sLBDJ",
        "outputId": "7d245e26-23a1-4c41-b6e5-8658599d342e"
      },
      "id": "3U_6bJ1sLBDJ",
      "execution_count": 46,
      "outputs": [
        {
          "output_type": "stream",
          "name": "stdout",
          "text": [
            "313/313 - 2s - loss: 0.1772 - Accuracy: 0.9648 - 2s/epoch - 5ms/step\n"
          ]
        }
      ]
    },
    {
      "cell_type": "markdown",
      "source": [
        "Above, we can see the loss value is `0.1772` and the accuracy of the model is `96.5 %`"
      ],
      "metadata": {
        "id": "3MH8DM-1L1S6"
      },
      "id": "3MH8DM-1L1S6"
    },
    {
      "cell_type": "markdown",
      "source": [
        "Lets try to save the model we have trained above."
      ],
      "metadata": {
        "id": "mskaoF9cMDWm"
      },
      "id": "mskaoF9cMDWm"
    },
    {
      "cell_type": "code",
      "source": [
        "!mkdir -p saved_model\n",
        "model.save('saved_model/digit_recognition.h5')"
      ],
      "metadata": {
        "id": "tMl3YZPWLbRl"
      },
      "id": "tMl3YZPWLbRl",
      "execution_count": 69,
      "outputs": []
    },
    {
      "cell_type": "code",
      "source": [
        ""
      ],
      "metadata": {
        "id": "15oWQWUGVIQn"
      },
      "id": "15oWQWUGVIQn",
      "execution_count": null,
      "outputs": []
    }
  ],
  "metadata": {
    "kernelspec": {
      "display_name": "Python 3 (ipykernel)",
      "language": "python",
      "name": "python3"
    },
    "language_info": {
      "codemirror_mode": {
        "name": "ipython",
        "version": 3
      },
      "file_extension": ".py",
      "mimetype": "text/x-python",
      "name": "python",
      "nbconvert_exporter": "python",
      "pygments_lexer": "ipython3",
      "version": "3.9.0"
    },
    "colab": {
      "provenance": [],
      "include_colab_link": true
    }
  },
  "nbformat": 4,
  "nbformat_minor": 5
}